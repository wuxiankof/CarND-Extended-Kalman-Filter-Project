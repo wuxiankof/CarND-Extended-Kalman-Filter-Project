{
 "cells": [
  {
   "cell_type": "markdown",
   "metadata": {},
   "source": [
    "# 2. Intro to Extended Kalman Filter Project"
   ]
  },
  {
   "cell_type": "markdown",
   "metadata": {},
   "source": [
    "## 2.1 - Project Introduction\n",
    "\n",
    "Now that you have learned how the extended Kalman filter works, you are going to implement the extended Kalman filter in C++. We are providing `simulated lidar and radar measurements detecting a bicycle that travels around your vehicle`. You will use a Kalman filter, lidar measurements and radar measurements to track the bicycle's position and velocity.\n",
    "\n",
    "The first step is to `download the simulator`, which contains all the projects for Self-Driving Car Nanodegree. More detailed instruction about setting up the simulator with `uWebSocketIO` can be found at the end of this section.\n",
    "\n",
    "`Lidar` measurements are `red circles`,` radar` measurements are `blue circles` with an arrow pointing in the direction of the observed angle, and `estimation markers` are `green triangles`. \n",
    "\n",
    "The video below shows what the simulator looks like when a c++ script is using its Kalman filter to track the object. The simulator provides the script the measured data (either lidar or radar), and the script feeds back the measured estimation marker, and RMSE values from its Kalman filter."
   ]
  },
  {
   "cell_type": "code",
   "execution_count": 9,
   "metadata": {
    "jupyter": {
     "source_hidden": true
    }
   },
   "outputs": [
    {
     "data": {
      "text/html": [
       "\n",
       "<video width=\"600\" height=\"400\" controls>\n",
       "  <source src='_Videos/2 - T2 P1 EKF.mp4'>\n",
       "</video>\n"
      ],
      "text/plain": [
       "<IPython.core.display.HTML object>"
      ]
     },
     "execution_count": 9,
     "metadata": {},
     "output_type": "execute_result"
    }
   ],
   "source": [
    "from IPython.display import HTML\n",
    "HTML(\"\"\"\n",
    "<video width=\"600\" height=\"400\" controls>\n",
    "  <source src='_Videos/2 - T2 P1 EKF.mp4'>\n",
    "</video>\n",
    "\"\"\")"
   ]
  },
  {
   "cell_type": "markdown",
   "metadata": {},
   "source": [
    "## 2.2 - Example of Tracking with Lidar"
   ]
  },
  {
   "cell_type": "code",
   "execution_count": 4,
   "metadata": {
    "jupyter": {
     "source_hidden": true
    }
   },
   "outputs": [
    {
     "data": {
      "text/html": [
       "\n",
       "<video width=\"640\" height=\"360\" controls>\n",
       "  <source src='_Videos/3_Data_collected.mp4'>\n",
       "</video>\n"
      ],
      "text/plain": [
       "<IPython.core.display.HTML object>"
      ]
     },
     "execution_count": 4,
     "metadata": {},
     "output_type": "execute_result"
    }
   ],
   "source": [
    "HTML(\"\"\"\n",
    "<video width=\"640\" height=\"360\" controls>\n",
    "  <source src='_Videos/3_Data_collected.mp4'>\n",
    "</video>\n",
    "\"\"\")"
   ]
  },
  {
   "cell_type": "markdown",
   "metadata": {},
   "source": [
    "# 3. Data File for EKF project"
   ]
  },
  {
   "cell_type": "markdown",
   "metadata": {},
   "source": [
    "## 3.1 - Explanation of the Data File\n",
    "\n",
    "The github repo contains one data file:\n",
    "\n",
    "> obj_pose-laser-radar-synthetic-input.txt\n",
    "\n",
    "Here is a screenshot of the first data file:\n",
    "\n",
    "![](_Images/3_1_screenshot.png)\n",
    "Screenshot of Data File\n",
    "\n",
    "The simulator will be using this data file, and feed main.cpp values from it one line at a time.\n",
    "\n",
    "Each row represents a sensor measurement where the first column tells you if the measurement comes from radar (R) or lidar (L).\n",
    "\n",
    "For a row containing radar data, the columns are: sensor_type, rho_measured, phi_measured, rhodot_measured, timestamp, x_groundtruth, y_groundtruth, vx_groundtruth, vy_groundtruth, yaw_groundtruth, yawrate_groundtruth.\n",
    "\n",
    "For a row containing lidar data, the columns are: sensor_type, x_measured, y_measured, timestamp, x_groundtruth, y_groundtruth, vx_groundtruth, vy_groundtruth, yaw_groundtruth, yawrate_groundtruth.\n",
    "\n",
    "Whereas radar has three measurements (rho, phi, rhodot), lidar has two measurements (x, y).\n",
    "\n",
    "You will use the measurement values and timestamp in your Kalman filter algorithm. Groundtruth, which represents the actual path the bicycle took, is for calculating root mean squared error.\n",
    "\n",
    "You do not need to worry about `yaw` and `yaw rate` ground truth values."
   ]
  },
  {
   "cell_type": "markdown",
   "metadata": {},
   "source": [
    "# 3.2 - Reading in the Data\n",
    "\n",
    "We have provided code that will read in and parse the data files for you. This code is in the main.cpp file. The main.cpp file creates instances of a MeasurementPackage.\n",
    "\n",
    "If you look inside 'main.cpp', you will see code like:\n",
    "\n",
    "```C++\n",
    "MeasurementPackage meas_package;\n",
    "meas_package.sensor_type_ = MeasurementPackage::LASER;\n",
    "meas_package.raw_measurements_ = VectorXd(2);\n",
    "meas_package.raw_measurements_ << px, py;\n",
    "meas_package.timestamp_ = timestamp;\n",
    "```\n",
    "\n",
    "and\n",
    "\n",
    "```C++\n",
    "vector<VectorXd> ground_truth;\n",
    "VectorXd gt_values(4);\n",
    "gt_values(0) = x_gt;\n",
    "gt_values(1) = y_gt; \n",
    "gt_values(2) = vx_gt;\n",
    "gt_values(3) = vy_gt;\n",
    "ground_truth.push_back(gt_values);\n",
    "```\n",
    "\n",
    "The code reads in the data file line by line. The measurement data for each line gets pushed onto a measurement_pack_list. The ground truth $[p_x, p_y, v_x, v_y]$ for each line in the data file gets pushed ontoground_truthso RMSE can be calculated later from tools.cpp."
   ]
  },
  {
   "cell_type": "markdown",
   "metadata": {},
   "source": [
    "# 4. File Structure"
   ]
  },
  {
   "cell_type": "markdown",
   "metadata": {},
   "source": [
    "# 4.1 - Overview of a Kalman Filter: Initialize, Predict, Update\n",
    "\n",
    "To review what we learned in the extended Kalman filter lectures, let's discuss the three main steps for programming a Kalman filter:\n",
    "\n",
    "- `initializing` Kalman filter variables\n",
    "- `predicting` where our object is going to be after a time step $\\Delta{t}$\n",
    "- `updating` where our object is based on sensor measurements\n",
    "\n",
    "Then the prediction and update steps repeat themselves in a loop.\n",
    "\n",
    "To measure how well our Kalman filter performs, we will then calculate root mean squared error comparing the Kalman filter results with the provided ground truth.\n",
    "\n",
    "These `three steps (initialize, predict, update)` plus calculating `RMSE` encapsulate the entire extended Kalman filter project."
   ]
  },
  {
   "cell_type": "markdown",
   "metadata": {},
   "source": [
    "# 4.2 - Files in the Github src Folder\n",
    "\n",
    "The files you need to work with are in the src folder of the github repository.\n",
    "\n",
    "- `main.cpp` - communicates with the `Term 2 Simulator` receiving data measurements, calls a function to run the Kalman filter, calls a function to calculate RMSE\n",
    "- `FusionEKF.cpp` - initializes the filter, calls the predict function, calls the update function\n",
    "- `kalman_filter.cpp`- defines the `predict function`, the `update function for lidar`, and t`he update function for radar`\n",
    "- `tools.cpp`v- function to calculate RMSE and the Jacobian matrix\n",
    "\n",
    "The only files you need to modify are `FusionEKF.cpp`, `kalman_filter.cpp`, and `tools.cpp`."
   ]
  },
  {
   "cell_type": "markdown",
   "metadata": {},
   "source": [
    "# 4.3 - How the Files Relate to Each Other\n",
    "\n",
    "Here is a brief overview of what happens when you run the code files:\n",
    "\n",
    "- `Main.cpp` reads in the data and sends a `sensor measurement` to `FusionEKF.cpp`\n",
    "- `FusionEKF.cpp` takes the sensor data and initializes variables and updates variables. The Kalman filter equations are not in this file. FusionEKF.cpp has a variable called ekf_, which is an instance of a KalmanFilter class. The ekf_ will hold the matrix and vector values. You will also use the ekf_ instance to call the predict and update equations.\n",
    "- `The KalmanFilter` class is defined in kalman_filter.cpp and kalman_filter.h. You will only need to modify 'kalman_filter.cpp', which contains functions for the prediction and update steps."
   ]
  },
  {
   "cell_type": "markdown",
   "metadata": {},
   "source": [
    "# 5. Main.cpp"
   ]
  },
  {
   "cell_type": "markdown",
   "metadata": {},
   "source": []
  },
  {
   "cell_type": "markdown",
   "metadata": {},
   "source": [
    "# 6. Project Code"
   ]
  },
  {
   "cell_type": "markdown",
   "metadata": {},
   "source": []
  },
  {
   "cell_type": "markdown",
   "metadata": {},
   "source": [
    "Compiling and Running Your Code\n",
    "\n",
    "Take a look at the github repo [README file](https://github.com/udacity/CarND-Extended-Kalman-Filter-Project/blob/master/README.md) for instructions on how to compile and run your code."
   ]
  },
  {
   "cell_type": "markdown",
   "metadata": {},
   "source": []
  },
  {
   "cell_type": "markdown",
   "metadata": {},
   "source": [
    "# 7. Tips and Tricks"
   ]
  },
  {
   "cell_type": "markdown",
   "metadata": {},
   "source": []
  },
  {
   "cell_type": "markdown",
   "metadata": {},
   "source": [
    "# 8. Project REsources"
   ]
  },
  {
   "cell_type": "code",
   "execution_count": null,
   "metadata": {},
   "outputs": [],
   "source": []
  },
  {
   "cell_type": "markdown",
   "metadata": {},
   "source": [
    "# 9. Project Instruction for workspace"
   ]
  },
  {
   "cell_type": "markdown",
   "metadata": {},
   "source": []
  },
  {
   "cell_type": "markdown",
   "metadata": {},
   "source": [
    "# **10. Project Instructions for local setup"
   ]
  },
  {
   "cell_type": "markdown",
   "metadata": {},
   "source": []
  },
  {
   "cell_type": "markdown",
   "metadata": {},
   "source": [
    "# ** 12. uWebSocketIO Starter guide"
   ]
  },
  {
   "cell_type": "markdown",
   "metadata": {},
   "source": []
  },
  {
   "cell_type": "markdown",
   "metadata": {},
   "source": [
    "## **15. Environment Setup (Mac)"
   ]
  },
  {
   "cell_type": "markdown",
   "metadata": {},
   "source": []
  },
  {
   "cell_type": "markdown",
   "metadata": {},
   "source": [
    "# **16. Compiling and Running the Project"
   ]
  },
  {
   "cell_type": "markdown",
   "metadata": {},
   "source": []
  },
  {
   "cell_type": "markdown",
   "metadata": {},
   "source": []
  }
 ],
 "metadata": {
  "kernelspec": {
   "display_name": "Python 3",
   "language": "python",
   "name": "python3"
  },
  "language_info": {
   "codemirror_mode": {
    "name": "ipython",
    "version": 3
   },
   "file_extension": ".py",
   "mimetype": "text/x-python",
   "name": "python",
   "nbconvert_exporter": "python",
   "pygments_lexer": "ipython3",
   "version": "3.7.6"
  }
 },
 "nbformat": 4,
 "nbformat_minor": 4
}
