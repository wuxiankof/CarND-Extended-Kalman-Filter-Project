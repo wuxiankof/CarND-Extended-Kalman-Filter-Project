{
 "cells": [
  {
   "cell_type": "markdown",
   "metadata": {},
   "source": [
    "# 2. Intro to Extended Kalman Filter Project"
   ]
  },
  {
   "cell_type": "markdown",
   "metadata": {},
   "source": [
    "## 2.1 - Project Introduction\n",
    "\n",
    "Now that you have learned how the extended Kalman filter works, you are going to implement the extended Kalman filter in C++. We are providing `simulated lidar and radar measurements detecting a bicycle that travels around your vehicle`. You will use a Kalman filter, lidar measurements and radar measurements to track the bicycle's position and velocity.\n",
    "\n",
    "The first step is to `download the simulator`, which contains all the projects for Self-Driving Car Nanodegree. More detailed instruction about setting up the simulator with `uWebSocketIO` can be found at the end of this section.\n",
    "\n",
    "`Lidar` measurements are `red circles`,` radar` measurements are `blue circles` with an arrow pointing in the direction of the observed angle, and `estimation markers` are `green triangles`. \n",
    "\n",
    "The video below shows what the simulator looks like when a c++ script is using its Kalman filter to track the object. The simulator provides the script the measured data (either lidar or radar), and the script feeds back the measured estimation marker, and RMSE values from its Kalman filter."
   ]
  },
  {
   "cell_type": "markdown",
   "metadata": {},
   "source": [
    "https://youtu.be/bb2IPCmJGwM"
   ]
  },
  {
   "cell_type": "markdown",
   "metadata": {},
   "source": [
    "## 2.2 - Example of Tracking with Lidar"
   ]
  },
  {
   "cell_type": "code",
   "execution_count": 4,
   "metadata": {},
   "outputs": [
    {
     "data": {
      "text/html": [
       "\n",
       "<video width=\"640\" height=\"360\" controls>\n",
       "  <source src='_Videos/3_Data_collected.mp4'>\n",
       "</video>\n"
      ],
      "text/plain": [
       "<IPython.core.display.HTML object>"
      ]
     },
     "execution_count": 4,
     "metadata": {},
     "output_type": "execute_result"
    }
   ],
   "source": [
    "HTML(\"\"\"\n",
    "<video width=\"640\" height=\"360\" controls>\n",
    "  <source src='_Videos/3_Data_collected.mp4'>\n",
    "</video>\n",
    "\"\"\")"
   ]
  },
  {
   "cell_type": "markdown",
   "metadata": {},
   "source": [
    "# 3. Data File for EKF project"
   ]
  },
  {
   "cell_type": "markdown",
   "metadata": {},
   "source": [
    "## 3.1 - Explanation of the Data File\n",
    "\n",
    "The github repo contains one data file:\n",
    "\n",
    "> obj_pose-laser-radar-synthetic-input.txt\n",
    "\n",
    "Here is a screenshot of the first data file:\n",
    "\n",
    "![](_Images/3_1_screenshot.png)\n",
    "Screenshot of Data File\n",
    "\n",
    "The simulator will be using this data file, and feed main.cpp values from it one line at a time.\n",
    "\n",
    "Each row represents a sensor measurement where the first column tells you if the measurement comes from radar (R) or lidar (L).\n",
    "\n",
    "For a row containing radar data, the columns are: sensor_type, rho_measured, phi_measured, rhodot_measured, timestamp, x_groundtruth, y_groundtruth, vx_groundtruth, vy_groundtruth, yaw_groundtruth, yawrate_groundtruth.\n",
    "\n",
    "For a row containing lidar data, the columns are: sensor_type, x_measured, y_measured, timestamp, x_groundtruth, y_groundtruth, vx_groundtruth, vy_groundtruth, yaw_groundtruth, yawrate_groundtruth.\n",
    "\n",
    "Whereas radar has three measurements (rho, phi, rhodot), lidar has two measurements (x, y).\n",
    "\n",
    "You will use the measurement values and timestamp in your Kalman filter algorithm. Groundtruth, which represents the actual path the bicycle took, is for calculating root mean squared error.\n",
    "\n",
    "You do not need to worry about `yaw` and `yaw rate` ground truth values."
   ]
  },
  {
   "cell_type": "markdown",
   "metadata": {},
   "source": [
    "# 3.2 - Reading in the Data\n",
    "\n",
    "We have provided code that will read in and parse the data files for you. This code is in the main.cpp file. The main.cpp file creates instances of a MeasurementPackage.\n",
    "\n",
    "If you look inside 'main.cpp', you will see code like:\n",
    "\n",
    "```C++\n",
    "MeasurementPackage meas_package;\n",
    "meas_package.sensor_type_ = MeasurementPackage::LASER;\n",
    "meas_package.raw_measurements_ = VectorXd(2);\n",
    "meas_package.raw_measurements_ << px, py;\n",
    "meas_package.timestamp_ = timestamp;\n",
    "```\n",
    "\n",
    "and\n",
    "\n",
    "```C++\n",
    "vector<VectorXd> ground_truth;\n",
    "VectorXd gt_values(4);\n",
    "gt_values(0) = x_gt;\n",
    "gt_values(1) = y_gt; \n",
    "gt_values(2) = vx_gt;\n",
    "gt_values(3) = vy_gt;\n",
    "ground_truth.push_back(gt_values);\n",
    "```\n",
    "\n",
    "The code reads in the data file line by line. The measurement data for each line gets pushed onto a measurement_pack_list. The ground truth $[p_x, p_y, v_x, v_y]$ for each line in the data file gets pushed ontoground_truthso RMSE can be calculated later from tools.cpp."
   ]
  },
  {
   "cell_type": "markdown",
   "metadata": {},
   "source": [
    "# 4. File Structure"
   ]
  },
  {
   "cell_type": "markdown",
   "metadata": {},
   "source": [
    "# 4.1 - Overview of a Kalman Filter: Initialize, Predict, Update\n",
    "\n",
    "To review what we learned in the extended Kalman filter lectures, let's discuss the three main steps for programming a Kalman filter:\n",
    "\n",
    "- `initializing` Kalman filter variables\n",
    "- `predicting` where our object is going to be after a time step $\\Delta{t}$\n",
    "- `updating` where our object is based on sensor measurements\n",
    "\n",
    "Then the prediction and update steps repeat themselves in a loop.\n",
    "\n",
    "To measure how well our Kalman filter performs, we will then calculate root mean squared error comparing the Kalman filter results with the provided ground truth.\n",
    "\n",
    "These `three steps (initialize, predict, update)` plus calculating `RMSE` encapsulate the entire extended Kalman filter project."
   ]
  },
  {
   "cell_type": "markdown",
   "metadata": {},
   "source": [
    "# 4.2 - Files in the Github src Folder\n",
    "\n",
    "The files you need to work with are in the src folder of the github repository.\n",
    "\n",
    "- `main.cpp` - communicates with the `Term 2 Simulator` receiving data measurements, calls a function to run the Kalman filter, calls a function to calculate RMSE\n",
    "- `FusionEKF.cpp` - initializes the filter, calls the predict function, calls the update function\n",
    "- `kalman_filter.cpp`- defines the `predict function`, the `update function for lidar`, and t`he update function for radar`\n",
    "- `tools.cpp`v- function to calculate RMSE and the Jacobian matrix\n",
    "\n",
    "The only files you need to modify are `FusionEKF.cpp`, `kalman_filter.cpp`, and `tools.cpp`."
   ]
  },
  {
   "cell_type": "markdown",
   "metadata": {},
   "source": [
    "# 4.3 - How the Files Relate to Each Other\n",
    "\n",
    "Here is a brief overview of what happens when you run the code files:\n",
    "\n",
    "- `Main.cpp` reads in the data and sends a `sensor measurement` to `FusionEKF.cpp`\n",
    "- `FusionEKF.cpp` takes the sensor data and initializes variables and updates variables. The Kalman filter equations are not in this file. FusionEKF.cpp has a variable called ekf_, which is an instance of a KalmanFilter class. The ekf_ will hold the matrix and vector values. You will also use the ekf_ instance to call the predict and update equations.\n",
    "- `The KalmanFilter` class is defined in kalman_filter.cpp and kalman_filter.h. You will only need to modify 'kalman_filter.cpp', which contains functions for the prediction and update steps."
   ]
  },
  {
   "cell_type": "markdown",
   "metadata": {},
   "source": [
    "# 5. Main.cpp"
   ]
  },
  {
   "cell_type": "markdown",
   "metadata": {},
   "source": [
    "Here we will discuss the main.cpp file. Although you will not need to modify this file, the project is easier to implement once you understand what the file is doing. As a suggestion, open the github repository for the project and look at the code files simultaneously with this lecture slide.\n",
    "\n",
    "**Main.cpp**\n",
    "\n",
    "You do not need to modify the main.cpp, but let's discuss what the file does.\n",
    "\n",
    "The **Term 2 simulator** is a client, and the c++ program software is a web server.\n",
    "\n",
    "We already discussed how main.cpp reads in the sensor data. Recall that main.cpp reads in the sensor data line by line from the client and stores the data into a measurement object that it passes to the Kalman filter for processing. Also a ground truth list and an estimation list are used for tracking RMSE.\n",
    "\n",
    "main.cpp is made up of several functions within main(), these all handle the uWebsocketIO communication between the simulator and it's self.\n",
    "\n",
    "Here is the main protocol that main.cpp uses for uWebSocketIO in communicating with the simulator.\n",
    "\n",
    "```C++\n",
    "INPUT: values provided by the simulator to the c++ program\n",
    "\n",
    "[\"sensor_measurement\"] => the measurement that the simulator observed (either lidar or radar)\n",
    "\n",
    "\n",
    "OUTPUT: values provided by the c++ program to the simulator\n",
    "\n",
    "[\"estimate_x\"] <= kalman filter estimated position x\n",
    "[\"estimate_y\"] <= kalman filter estimated position y\n",
    "[\"rmse_x\"]\n",
    "[\"rmse_y\"]\n",
    "[\"rmse_vx\"]\n",
    "[\"rmse_vy\"]\n",
    "```"
   ]
  },
  {
   "cell_type": "markdown",
   "metadata": {},
   "source": [
    "All the main code loops in h.onMessage(), to have access to intial variables that we created at the beginning of main(), we pass pointers as arguments into the header of h.onMessage().\n",
    "\n",
    "For example:\n",
    "\n",
    "```C++\n",
    "h.onMessage([&fusionEKF,&tools,&estimations,&ground_truth]\n",
    "            (uWS::WebSocket<uWS::SERVER> ws, char *data, size_t length, \n",
    "             uWS::OpCode opCode)\n",
    "```"
   ]
  },
  {
   "cell_type": "markdown",
   "metadata": {},
   "source": [
    "The rest of the arguments in h.onMessage are used to set up the server.\n",
    "\n",
    "```C++\n",
    " // Create a Fusion EKF instance\n",
    "  FusionEKF fusionEKF;\n",
    "\n",
    "  // used to compute the RMSE later\n",
    "  vector<VectorXd> estimations;\n",
    "  vector<VectorXd> ground_truth;\n",
    "\n",
    "  //Call the EKF-based fusion\n",
    "  fusionEKF.ProcessMeasurement(meas_package); \n",
    "```\n",
    "\n",
    "The code is:\n",
    "\n",
    "- creating an instance of the FusionEKF class\n",
    "- Receiving the measurement data calling the ProcessMeasurement() function. ProcessMeasurement() is responsible for the initialization of the Kalman filter as well as calling the prediction and update steps of the Kalman filter. You will be implementing the ProcessMeasurement() function in FusionEKF.cpp:"
   ]
  },
  {
   "cell_type": "markdown",
   "metadata": {},
   "source": [
    "Finally,\n",
    "\n",
    "The rest of main.cpp will output the following results to the simulator:\n",
    "\n",
    "- estimation position\n",
    "- calculated RMSE\n",
    "\n",
    "main.cpp will call a function to calculate root mean squared error:\n",
    "\n",
    "```C++\n",
    "  // compute the accuracy (RMSE)\n",
    "  Tools tools;\n",
    "  cout << \"Accuracy - RMSE:\" << endl << tools.CalculateRMSE(estimations, ground_truth) << endl;\n",
    "```\n",
    "\n",
    "You will implement an RMSE function in the tools.cpp file."
   ]
  },
  {
   "cell_type": "markdown",
   "metadata": {},
   "source": [
    "# 6. Project Code"
   ]
  },
  {
   "cell_type": "markdown",
   "metadata": {},
   "source": []
  },
  {
   "cell_type": "markdown",
   "metadata": {},
   "source": [
    "Compiling and Running Your Code\n",
    "\n",
    "Take a look at the github repo [README file](https://github.com/udacity/CarND-Extended-Kalman-Filter-Project/blob/master/README.md) for instructions on how to compile and run your code."
   ]
  },
  {
   "cell_type": "markdown",
   "metadata": {},
   "source": [
    "# 7. Tips and Tricks"
   ]
  },
  {
   "cell_type": "markdown",
   "metadata": {},
   "source": [
    "## 7.1 - Summary of What Needs to Be Done\n",
    "\n",
    "1. In tools.cpp, fill in the functions that calculate root mean squared error (RMSE) and the Jacobian matrix.\n",
    "2. Fill in the code in FusionEKF.cpp. You'll need to initialize the Kalman Filter, prepare the Q and F matrices for the prediction step, and call the radar and lidar update functions.\n",
    "3. In kalman_filter.cpp, fill out the Predict(), Update(), and UpdateEKF() functions."
   ]
  },
  {
   "cell_type": "markdown",
   "metadata": {},
   "source": [
    "## 7.2 - Tips and Tricks\n",
    "\n",
    "**Review the Previous Lessons**\n",
    "\n",
    "- Review the previous lessons! Andrei, Dominik and co. have given you everything you need. In fact, you've built most of an Extended Kalman Filter already! Take a look at the programming assignments and apply the techniques you used to this project.\n",
    "\n",
    "**No Need to Tune Parameters**\n",
    "\n",
    "- The R matrix values and Q noise values are provided for you. There is no need to tune these parameters for this project.\n",
    "\n",
    "**Initializing the State Vector**\n",
    "\n",
    "- You'll need to initialize the state vector with the first sensor measurement.\n",
    "- Although radar gives velocity data in the form of the range rate $\\dot{\\rho}$, a radar measurement does not contain enough information to determine the state variable velocities $v_x$ and $v_y$. You can, however, use the radar measurements $\\rho$ and $\\phi$ to initialize the state variable locations $p_x$ and $p_y$.\n",
    "\n",
    "**Calculating y = z - H * x'**\n",
    "\n",
    "For lidar measurements, the error equation is y = z - H * x'. For radar measurements, the functions that map the x vector [px, py, vx, vy] to polar coordinates are non-linear. Instead of using H to calculate y = z - H * x', for radar measurements you'll have to use the equations that map from cartesian to polar coordinates: y = z - h(x').\n",
    "\n",
    "**Normalizing Angles**\n",
    "\n",
    "In C++, atan2() returns values between -pi and pi. When calculating phi in y = z - h(x) for radar measurements, the resulting angle phi in the y vector should be adjusted so that it is between -pi and pi. The Kalman filter is expecting small angle values between the range -pi and pi. HINT: when working in radians, you can add $2\\pi$ or subtract $2\\pi$ until the angle is within the desired range.\n",
    "\n",
    "**Avoid Divide by Zero throughout the Implementation**\n",
    "\n",
    "Before and while calculating the Jacobian matrix Hj, make sure your code avoids dividing by zero. For example, both the x and y values might be zero or px*px + py*py might be close to zero. What should be done in those cases?\n",
    "\n",
    "**Test Your Implementation**\n",
    "\n",
    "Test! We're giving you the ability to analyze your output data and calculate RMSE. As you make changes, keep testing your algorithm! If you are getting stuck, add print statements to pinpoint any issues. But please remove extra print statements before turning in the code."
   ]
  },
  {
   "cell_type": "markdown",
   "metadata": {},
   "source": [
    "## 7.3 - Ideas for Standing out!\n",
    "\n",
    "The Kalman Filter general processing flow that you've learned in the preceding lessons gives you the basic knowledge needed to track an object. However, there are ways that you can make your algorithm `more efficient`!\n",
    "\n",
    "- Dealing with the first frame, in particular, offers opportunities for improvement.\n",
    "- Experiment and see how low your RMSE can go!\n",
    "- Try removing radar or lidar data from the filter. Observe how your estimations change when running against a `single sensor type!` Do the results make sense given what you know about the nature of radar and lidar data?\n",
    "- We give you starter code, but you are not required to use it! You may want to start from scratch if: You want a bigger challenge! You want to `redesign the project architecture`. There are many valid design patterns for approaching the Kalman Filter algorithm. Feel free to experiment and try your own! You want to use a different coding style, eg. functional programming. While C++ code naturally tends towards being object-oriented in nature, it's perfectly reasonable to attempt a functional approach. Give it a shot and maybe you can improve its efficiency!"
   ]
  },
  {
   "cell_type": "markdown",
   "metadata": {},
   "source": [
    "# ** 8. Project Resources"
   ]
  },
  {
   "cell_type": "markdown",
   "metadata": {},
   "source": []
  },
  {
   "cell_type": "markdown",
   "metadata": {},
   "source": [
    "# 9. Project Instruction for workspace"
   ]
  },
  {
   "cell_type": "markdown",
   "metadata": {},
   "source": [
    "## 9.1 - Accessing and using the workspace:\n",
    "\n",
    "- Navigate to the workspace node.\n",
    "- Navigate to the repository `CarND-Extended-Kalman-Filter-Project` using the file and directory menu on the left.\n",
    "- Run `./install-ubuntu.sh` in the terminal window to make sure the necessary dependencies are installed (you may need to run chmod u+x install-ubuntu.sh to make the file executable).\n",
    "- Complete the TODO in `FusionEKF.cpp`, `FusionEKF.h`, `kalman_filter.cpp`, `kalman_filter.h`, `tools.cpp` and `tools.h` using the text editor in the workspace.\n",
    "- Navigate to the project repository in the terminal.\n",
    "\n",
    "The main program can be built and run by doing the following from the project top directory:\n",
    "\n",
    "1. mkdir build && cd build\n",
    "2. cmake .. && make\n",
    "3. ./ExtendedKF\n",
    "\n",
    "Click on the \"Simulator\" button in the bottom of the Udacity workspace, which will open a new virtual desktop. You should see a \"Simulator\" link on the virtual desktop. `Double-click the \"Simulator\"` link in that desktop to start the simulator.\n",
    "\n",
    "Important: You need to `open a terminal` before attempting to run the simulator."
   ]
  },
  {
   "cell_type": "markdown",
   "metadata": {},
   "source": [
    "## 9.2 - Extended Kalman Filter Simulator\n",
    "\n",
    "- In the main menu `screen` select Project `1/2: EKF and UKF`.\n",
    "- Once the scene is loaded you can hit the `START button` to observe how the object moves and how measurement markers are positioned in the data set. Also for more experimentation, \"Data set 2\" is included which is a `reversed version` of \"Data set 1\", also the second data set starts with a radar measurement where the first data set starts with a lidar measurement. - At any time you can press the PAUSE button, to pause the scene or hit the RESTART button to reset the scene. Also, the `ARROW KEYS` can be used to `move the camera` around, and the top left `ZOOM IN/OUT` buttons can be used to focus the camera. Pressing the `ESCAPE KEY` returns to the simulator main menu"
   ]
  },
  {
   "cell_type": "markdown",
   "metadata": {},
   "source": [
    "**NOTES:**\n",
    "\n",
    "- Currently hitting Restart or switching between data sets only refreshes the simulator state and not the Kalman Filter's saved results. The current procedure for refreshing the Kalman Filter is to `close the connection, ctrl+c and reopen it, ./ExtendedKF`. If you don't do this when trying to run a different data set or running the same data set multiple times in a row, `the RMSE values will become large` because of the previous different filter results still being observed in memory.\n",
    "- The `two functions in tools.cpp` need to be implemented for the simulator to avoid throwing a `segmentation fault` - make sure to get those built out in order to test in the simulator!"
   ]
  },
  {
   "cell_type": "markdown",
   "metadata": {},
   "source": [
    "# ** 10. Project Instructions for local setup"
   ]
  },
  {
   "cell_type": "markdown",
   "metadata": {},
   "source": []
  },
  {
   "cell_type": "markdown",
   "metadata": {},
   "source": [
    "# ** 12. uWebSocketIO Starter guide"
   ]
  },
  {
   "cell_type": "markdown",
   "metadata": {},
   "source": []
  },
  {
   "cell_type": "markdown",
   "metadata": {},
   "source": [
    "## ** 15. Environment Setup (Mac)"
   ]
  },
  {
   "cell_type": "markdown",
   "metadata": {},
   "source": []
  },
  {
   "cell_type": "markdown",
   "metadata": {},
   "source": [
    "# ** 16. Compiling and Running the Project"
   ]
  },
  {
   "cell_type": "markdown",
   "metadata": {},
   "source": []
  }
 ],
 "metadata": {
  "kernelspec": {
   "display_name": "Python 3",
   "language": "python",
   "name": "python3"
  },
  "language_info": {
   "codemirror_mode": {
    "name": "ipython",
    "version": 3
   },
   "file_extension": ".py",
   "mimetype": "text/x-python",
   "name": "python",
   "nbconvert_exporter": "python",
   "pygments_lexer": "ipython3",
   "version": "3.7.6"
  }
 },
 "nbformat": 4,
 "nbformat_minor": 4
}
